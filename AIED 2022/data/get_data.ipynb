{
 "cells": [
  {
   "cell_type": "code",
   "execution_count": 1,
   "metadata": {},
   "outputs": [],
   "source": [
    "import psycopg2\n",
    "import numpy as np\n",
    "import pandas as pd\n",
    "import pandas.io.sql as sqlio"
   ]
  },
  {
   "cell_type": "code",
   "execution_count": 2,
   "metadata": {},
   "outputs": [],
   "source": [
    "# Load Skill Builder Information\n",
    "\n",
    "exp_norm_map = pd.read_csv('experiment_information/exp_norm_map.csv')\n",
    "normal_skill_builders_in_folder = pd.read_csv('experiment_information/normal_skill_builders_in_folder.csv')\n",
    "normal_replaced_skill_builders = pd.read_csv('experiment_information/normal_replaced_skill_builders.csv')"
   ]
  },
  {
   "cell_type": "code",
   "execution_count": 3,
   "metadata": {},
   "outputs": [],
   "source": [
    "# Dictionary of Experiment to Normal Skill Builders\n",
    "exp_norm_dict = dict(zip(exp_norm_map['experiment_id'], exp_norm_map['normal_id']))\n",
    "\n",
    "# Array of All Normal Skill Builders\n",
    "all_norm_skill_builders = np.unique(pd.concat([normal_skill_builders_in_folder['sequence_id'], normal_replaced_skill_builders['sequence_id']]))"
   ]
  },
  {
   "cell_type": "code",
   "execution_count": 4,
   "metadata": {},
   "outputs": [],
   "source": [
    "# Database Credentials\n",
    "\n",
    "US = 'postgres'\n",
    "PA = 'RuePierre0614'\n",
    "HO = 'dev.tng.cs.wpi.edu'\n",
    "PO = 5432\n",
    "DB = 'cas_core'\n",
    "\n",
    "# List of Experiment Problem Sets\n",
    "experiment_skill_builders =  \"('\" + \"','\".join(exp_norm_dict.keys()) + \"')\"\n",
    "\n",
    "# List of Non-Experiment Problem Sets\n",
    "normal_skill_builders = \"('\" + \"','\".join(all_norm_skill_builders) + \"')\""
   ]
  },
  {
   "cell_type": "code",
   "execution_count": 5,
   "metadata": {},
   "outputs": [],
   "source": [
    "# Run the script that creates tables\n",
    "\n",
    "conn = psycopg2.connect(user=US, password=PA, host=HO, port=PO, database=DB)\n",
    "conn.set_session(autocommit=True)\n",
    "with open(f'sql/make_data.sql', 'rt') as fin:\n",
    "    with open(f'sql/tmp.sql', 'wt') as fout:\n",
    "        for line in fin:\n",
    "            fout.write(line.replace('VAR_EXP_SB', experiment_skill_builders)\n",
    "                           .replace('VAR_NORM_SB', normal_skill_builders))\n",
    "conn.cursor().execute(open(f'sql/tmp.sql', 'r').read())"
   ]
  },
  {
   "cell_type": "code",
   "execution_count": 6,
   "metadata": {},
   "outputs": [],
   "source": [
    "sqlio.read_sql_query('select * from remnant_actions', conn).to_csv('raw_data/remnant_actions.csv', index=False)\n",
    "sqlio.read_sql_query('select * from remnant_inputs', conn).to_csv('raw_data/remnant_inputs.csv', index=False)\n",
    "sqlio.read_sql_query('select * from remnant_targets', conn).to_csv('raw_data/remnant_targets.csv', index=False)\n",
    "sqlio.read_sql_query('select * from experiment_actions', conn).to_csv('raw_data/experiment_actions.csv', index=False)\n",
    "sqlio.read_sql_query('select * from experiment_inputs', conn).to_csv('raw_data/experiment_inputs.csv', index=False)\n",
    "sqlio.read_sql_query('select * from experiment_targets', conn).to_csv('raw_data/experiment_targets.csv', index=False)"
   ]
  },
  {
   "cell_type": "code",
   "execution_count": 7,
   "metadata": {},
   "outputs": [],
   "source": [
    "conn.close()"
   ]
  },
  {
   "cell_type": "code",
   "execution_count": null,
   "metadata": {},
   "outputs": [],
   "source": []
  }
 ],
 "metadata": {
  "kernelspec": {
   "display_name": "Python 3",
   "language": "python",
   "name": "python3"
  },
  "language_info": {
   "codemirror_mode": {
    "name": "ipython",
    "version": 3
   },
   "file_extension": ".py",
   "mimetype": "text/x-python",
   "name": "python",
   "nbconvert_exporter": "python",
   "pygments_lexer": "ipython3",
   "version": "3.8.10"
  }
 },
 "nbformat": 4,
 "nbformat_minor": 4
}
