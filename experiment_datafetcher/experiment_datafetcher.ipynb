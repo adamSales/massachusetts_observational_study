{
 "cells": [
  {
   "cell_type": "code",
   "execution_count": 1,
   "metadata": {},
   "outputs": [],
   "source": [
    "import os\n",
    "import shutil\n",
    "import psycopg2\n",
    "import numpy as np\n",
    "import pandas as pd\n",
    "import pandas.io.sql as sqlio\n",
    "from zipfile import ZipFile, ZIP_DEFLATED\n",
    "import warnings\n",
    "warnings.filterwarnings('ignore')\n",
    "\n",
    "US = 'postgres'\n",
    "PA = 'RuePierre0614'\n",
    "HO = 'dev.tng.cs.wpi.edu'\n",
    "PO = 5432\n",
    "\n",
    "conn = psycopg2.connect(user=US, password=PA, host=HO, port=PO, database='cas_core')\n",
    "conn.set_session(autocommit=True)"
   ]
  },
  {
   "cell_type": "code",
   "execution_count": 2,
   "metadata": {},
   "outputs": [],
   "source": [
    "all_eps = pd.read_csv('experiment_results.csv')['sequence_id'].unique()"
   ]
  },
  {
   "cell_type": "code",
   "execution_count": 3,
   "metadata": {
    "scrolled": false
   },
   "outputs": [
    {
     "name": "stdout",
     "output_type": "stream",
     "text": [
      "2021-12-12 14:38:05.949997: Setting up database.\n"
     ]
    }
   ],
   "source": [
    "ddets = pd.read_csv('raw_ddets.csv')\n",
    "\n",
    "print(f'{pd.datetime.now()}: Setting up database.')\n",
    "\n",
    "conn.cursor().execute(open('sql_scripts/setup.sql', 'r').read())\n",
    "\n",
    "batch_size = 1000000\n",
    "\n",
    "done = False\n",
    "while not done:\n",
    "    for eps in all_eps:\n",
    "        if f'{eps}.zip' not in os.listdir('output/'):\n",
    "            print(eps)\n",
    "            print(f'{pd.datetime.now()}: Creating database tables.')\n",
    "            with open('sql_scripts/data_builder.sql', 'rt') as fin:\n",
    "                with open('tmp.sql', 'wt') as fout:\n",
    "                    for line in fin:\n",
    "                        fout.write(line.replace('epsvar', eps))\n",
    "            conn = psycopg2.connect(user=US, password=PA, host=HO, port=PO, database='cas_core')\n",
    "            conn.set_session(autocommit=True)\n",
    "            conn.cursor().execute(open('tmp.sql', 'r').read())\n",
    "            os.remove('tmp.sql')\n",
    "\n",
    "            print(f'{pd.datetime.now()}: Exporting database tables.')\n",
    "            if os.path.exists('tmp'):\n",
    "                shutil.rmtree('tmp')\n",
    "            os.makedirs('tmp')\n",
    "            for table in ['exp_slogs', 'exp_plogs', 'exp_alogs', 'priors']:\n",
    "                data = sqlio.read_sql_query(f'select * from {table}', conn)\n",
    "                if table == 'priors':\n",
    "                    data = data.merge(ddets, how='left', on='district_alias')\n",
    "                    data = data.drop('district_alias', axis=1)\n",
    "                data.to_csv(os.path.join('tmp', f'{table}.csv'), mode='w', index=False, header=True)\n",
    "\n",
    "            if len(pd.read_csv('tmp/exp_slogs.csv')) > 0:\n",
    "                print(f'{pd.datetime.now()}: Compressing database tables.')\n",
    "                with ZipFile(f'output/{eps}.zip', 'w', ZIP_DEFLATED) as archive:\n",
    "                    for file in os.listdir('tmp'):\n",
    "                        archive.write(os.path.join('tmp', file), file)\n",
    "            else:\n",
    "                print(f'{pd.datetime.now()}: No experimental data available.')\n",
    "            shutil.rmtree('tmp')\n",
    "        done = True\n",
    "conn.close()"
   ]
  },
  {
   "cell_type": "code",
   "execution_count": null,
   "metadata": {},
   "outputs": [],
   "source": []
  }
 ],
 "metadata": {
  "kernelspec": {
   "display_name": "Python 3",
   "language": "python",
   "name": "python3"
  },
  "language_info": {
   "codemirror_mode": {
    "name": "ipython",
    "version": 3
   },
   "file_extension": ".py",
   "mimetype": "text/x-python",
   "name": "python",
   "nbconvert_exporter": "python",
   "pygments_lexer": "ipython3",
   "version": "3.8.10"
  }
 },
 "nbformat": 4,
 "nbformat_minor": 5
}
