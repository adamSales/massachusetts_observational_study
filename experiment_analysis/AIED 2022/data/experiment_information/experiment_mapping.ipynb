{
 "cells": [
  {
   "cell_type": "code",
   "execution_count": 3,
   "metadata": {},
   "outputs": [],
   "source": [
    "import pandas as pd"
   ]
  },
  {
   "cell_type": "code",
   "execution_count": 9,
   "metadata": {},
   "outputs": [],
   "source": [
    "experiment_details = pd.read_csv('Experiment Descriptions - Pairwise Analysis.csv')\n",
    "experiment_to_normal = pd.read_csv('Study Problem Sets-Main View.csv')\n",
    "experiments = experiment_details.merge(experiment_to_normal, \n",
    "                                       how='left', \n",
    "                                       left_on='experiment_id', \n",
    "                                       right_on='Problem Set ID')\n",
    "experiments = experiments[['experiment_id', 'Original Skill Builders']]\n",
    "experiments.loc[experiments['experiment_id'] == experiments['Original Skill Builders'], 'Original Skill Builders'] = None\n",
    "experiments[['experiment_id', 'Original Skill Builders']].to_csv('exp_norm_map_with_errors.csv', index=False)"
   ]
  },
  {
   "cell_type": "code",
   "execution_count": 6,
   "metadata": {},
   "outputs": [
    {
     "data": {
      "text/plain": [
       "'\\nselect exp_norm_map_with_errors_csv.experiment_id, s1.name, s2.name from exp_norm_map_csv\\ninner join legacy.sequences as s1 on s1.id = decode_ceri(exp_norm_map_csv.experiment_id)\\ninner join legacy.sequences as s2 on s2.id = decode_ceri(exp_norm_map_csv.\"Original Skill Builders\")\\n'"
      ]
     },
     "execution_count": 6,
     "metadata": {},
     "output_type": "execute_result"
    }
   ],
   "source": [
    "# Upload into SQL and run this query, then manually remove errors and save as exp_norm_map.csv\n",
    "\n",
    "'''\n",
    "select exp_norm_map_with_errors_csv.experiment_id, s1.name, s2.name from exp_norm_map_with_errors_csv\n",
    "inner join legacy.sequences as s1 on s1.id = decode_ceri(exp_norm_map_with_errors_csv.experiment_id)\n",
    "inner join legacy.sequences as s2 on s2.id = decode_ceri(exp_norm_map_with_errors_csv.\"Original Skill Builders\")\n",
    "'''"
   ]
  }
 ],
 "metadata": {
  "kernelspec": {
   "display_name": "Python 3",
   "language": "python",
   "name": "python3"
  },
  "language_info": {
   "codemirror_mode": {
    "name": "ipython",
    "version": 3
   },
   "file_extension": ".py",
   "mimetype": "text/x-python",
   "name": "python",
   "nbconvert_exporter": "python",
   "pygments_lexer": "ipython3",
   "version": "3.8.10"
  }
 },
 "nbformat": 4,
 "nbformat_minor": 4
}
