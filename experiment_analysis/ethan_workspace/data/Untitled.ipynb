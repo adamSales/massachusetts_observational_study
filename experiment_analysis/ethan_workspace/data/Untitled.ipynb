{
 "cells": [
  {
   "cell_type": "code",
   "execution_count": 14,
   "metadata": {},
   "outputs": [],
   "source": [
    "import numpy as np\n",
    "import pandas as pd\n",
    "from sklearn.decomposition import IncrementalPCA\n",
    "import matplotlib.pyplot as plt"
   ]
  },
  {
   "cell_type": "code",
   "execution_count": 4,
   "metadata": {},
   "outputs": [],
   "source": [
    "input_data = pd.read_csv('raw_data/all_raw_remnant_input.csv')"
   ]
  },
  {
   "cell_type": "code",
   "execution_count": 30,
   "metadata": {},
   "outputs": [],
   "source": [
    "sequence_id_data = pd.get_dummies(input_data[['sequence_id']], columns=['sequence_id'], dummy_na=True)"
   ]
  },
  {
   "cell_type": "code",
   "execution_count": 15,
   "metadata": {},
   "outputs": [
    {
     "data": {
      "text/plain": [
       "[<matplotlib.lines.Line2D at 0x7f20436673a0>]"
      ]
     },
     "execution_count": 15,
     "metadata": {},
     "output_type": "execute_result"
    },
    {
     "data": {
      "image/png": "[encoded data removed]",
      "text/plain": [
       "<Figure size 432x288 with 1 Axes>"
      ]
     },
     "metadata": {
      "needs_background": "light"
     },
     "output_type": "display_data"
    }
   ],
   "source": [
    "plt.plot(np.arange(len(sequence_id_data.columns)), np.flip(np.sort(sequence_id_data.sum().values)))"
   ]
  },
  {
   "cell_type": "code",
   "execution_count": 31,
   "metadata": {},
   "outputs": [],
   "source": []
  },
  {
   "cell_type": "code",
   "execution_count": 64,
   "metadata": {},
   "outputs": [],
   "source": [
    "input_data['sequence_id'] = input_data['sequence_id'].fillna(-1)\n",
    "sequence_id_data = pd.get_dummies(input_data[['sequence_id']], columns=['sequence_id'])\n",
    "sum_data = sequence_id_data.sum()"
   ]
  },
  {
   "cell_type": "code",
   "execution_count": 66,
   "metadata": {},
   "outputs": [],
   "source": [
    "sum_columns = sum_data.index\n",
    "sum_values = sum_data.values\n",
    "ordered_columns = sum_columns[np.flip(np.argsort(sum_values))]\n",
    "sum_values = np.flip(np.sort(sum_values))\n",
    "sum_values = sum_values / len(sequence_id_data)\n",
    "sum_values = np.flip(np.sort(sum_values))\n",
    "cum_sum = np.cumsum(sum_values)\n",
    "keeper_index = len(cum_sum[cum_sum <= 0.90])\n",
    "keeper_columns = ordered_columns[:keeper_index]\n",
    "keeper_sequences = [float(c[12:]) for c in keeper_columns]\n",
    "input_data['sequence_id'] = input_data['sequence_id'].apply(lambda x: x if x in keeper_sequences else -2)"
   ]
  },
  {
   "cell_type": "code",
   "execution_count": 67,
   "metadata": {},
   "outputs": [
    {
     "data": {
      "text/plain": [
       "0             -1.0\n",
       "1             -1.0\n",
       "2             -1.0\n",
       "3         429488.0\n",
       "4             -1.0\n",
       "            ...   \n",
       "960052    562896.0\n",
       "960053    458321.0\n",
       "960054     35008.0\n",
       "960055    562896.0\n",
       "960056     39659.0\n",
       "Name: sequence_id, Length: 960057, dtype: float64"
      ]
     },
     "execution_count": 67,
     "metadata": {},
     "output_type": "execute_result"
    }
   ],
   "source": [
    "input_data['sequence_id'].va"
   ]
  },
  {
   "cell_type": "code",
   "execution_count": 54,
   "metadata": {},
   "outputs": [
    {
     "data": {
      "text/plain": [
       "960057"
      ]
     },
     "execution_count": 54,
     "metadata": {},
     "output_type": "execute_result"
    }
   ],
   "source": [
    "len(input_data)"
   ]
  },
  {
   "cell_type": "code",
   "execution_count": 57,
   "metadata": {},
   "outputs": [
    {
     "data": {
      "text/plain": [
       "960057"
      ]
     },
     "execution_count": 57,
     "metadata": {},
     "output_type": "execute_result"
    }
   ],
   "source": [
    "len(new_data)"
   ]
  },
  {
   "cell_type": "code",
   "execution_count": 63,
   "metadata": {},
   "outputs": [
    {
     "data": {
      "text/plain": [
       "'1'"
      ]
     },
     "execution_count": 63,
     "metadata": {},
     "output_type": "execute_result"
    }
   ],
   "source": [
    "'sequence_id_1'[12:]"
   ]
  },
  {
   "cell_type": "code",
   "execution_count": null,
   "metadata": {},
   "outputs": [],
   "source": []
  }
 ],
 "metadata": {
  "kernelspec": {
   "display_name": "Python 3",
   "language": "python",
   "name": "python3"
  },
  "language_info": {
   "codemirror_mode": {
    "name": "ipython",
    "version": 3
   },
   "file_extension": ".py",
   "mimetype": "text/x-python",
   "name": "python",
   "nbconvert_exporter": "python",
   "pygments_lexer": "ipython3",
   "version": "3.8.10"
  }
 },
 "nbformat": 4,
 "nbformat_minor": 4
}
