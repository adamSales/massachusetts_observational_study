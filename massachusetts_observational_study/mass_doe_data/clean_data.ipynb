{
 "cells": [
  {
   "cell_type": "code",
   "execution_count": 1,
   "metadata": {},
   "outputs": [],
   "source": [
    "import numpy as np\n",
    "import pandas as pd"
   ]
  },
  {
   "cell_type": "code",
   "execution_count": 2,
   "metadata": {},
   "outputs": [
    {
     "name": "stdout",
     "output_type": "stream",
     "text": [
      "Load the data\n",
      "(636, 2775)\n",
      "Drop state features\n",
      "(636, 1868)\n"
     ]
    }
   ],
   "source": [
    "print('Load the data')\n",
    "\n",
    "df = pd.read_csv('mass_doe_data.csv', dtype=str)\n",
    "df = df.set_index('school_id')\n",
    "df = df.astype(float)\n",
    "print(df.shape)\n",
    "\n",
    "print('Drop state features')\n",
    "df = df.drop(columns=[c for c in df.columns if 'state' in c.lower()])\n",
    "print(df.shape)"
   ]
  },
  {
   "cell_type": "code",
   "execution_count": 3,
   "metadata": {},
   "outputs": [
    {
     "name": "stdout",
     "output_type": "stream",
     "text": [
      "Demographics\n",
      "(636, 392)\n",
      "Remove unchanging demographics\n",
      "(636, 358)\n",
      "Remove perfectly correlated demographics\n",
      "(636, 348)\n",
      "Create dataframe of whether or not the other dataframe is nan\n",
      "(636, 348)\n",
      "Remove unchanging nan demographics\n",
      "(636, 151)\n",
      "Remove perfectly correlated nan demographics\n",
      "(636, 25)\n",
      "Combine demographics with nan demographics\n",
      "(636, 373)\n",
      "Save demographics\n"
     ]
    }
   ],
   "source": [
    "print('Demographics')\n",
    "\n",
    "demographics = df[[c for c in df.columns if 'MCAS' not in c]]\n",
    "print(demographics.shape)\n",
    "\n",
    "print('Remove unchanging demographics')\n",
    "demographics = demographics[demographics.columns[demographics.nunique(dropna=False) > 1]]\n",
    "print(demographics.shape)\n",
    "\n",
    "print('Remove perfectly correlated demographics')\n",
    "columns_to_remove = []\n",
    "corr_matrix = demographics.corr()\n",
    "for a in demographics.columns:\n",
    "    for b in demographics.columns:\n",
    "        if a not in columns_to_remove and b not in columns_to_remove and a != b and corr_matrix.loc[a, b] == 1:\n",
    "            columns_to_remove.append(b)\n",
    "demographics = demographics.drop(columns=columns_to_remove)\n",
    "print(demographics.shape)\n",
    "\n",
    "print('Create dataframe of whether or not the other dataframe is nan')\n",
    "nan_demographics = demographics.isna().astype(int)\n",
    "nan_demographics.columns = [f'{c}_is_nan' for c in nan_demographics.columns]\n",
    "print(nan_demographics.shape)\n",
    "\n",
    "print('Remove unchanging nan demographics')\n",
    "nan_demographics = nan_demographics[nan_demographics.columns[nan_demographics.nunique(dropna=False) > 1]]\n",
    "print(nan_demographics.shape)\n",
    "\n",
    "print('Remove perfectly correlated nan demographics')\n",
    "columns_to_remove = []\n",
    "corr_matrix = nan_demographics.corr()\n",
    "for a in nan_demographics.columns:\n",
    "    for b in nan_demographics.columns:\n",
    "        if a not in columns_to_remove and b not in columns_to_remove and a != b and corr_matrix.loc[a, b] == 1:\n",
    "            columns_to_remove.append(b)\n",
    "nan_demographics = nan_demographics.drop(columns=columns_to_remove)\n",
    "print(nan_demographics.shape)\n",
    "\n",
    "print('Combine demographics with nan demographics')\n",
    "demographics = pd.concat([demographics, nan_demographics], axis=1)\n",
    "print(demographics.shape)\n",
    "\n",
    "print('Save demographics')\n",
    "demographics.to_csv('outcome_and_demographic_covariates.csv')"
   ]
  },
  {
   "cell_type": "code",
   "execution_count": 4,
   "metadata": {},
   "outputs": [
    {
     "name": "stdout",
     "output_type": "stream",
     "text": [
      "Prior Performance\n",
      "(636, 144)\n",
      "Fix web scraping typo\n",
      "(636, 135)\n",
      "Stack by year\n",
      "(3180, 28)\n",
      "Remove unchanging mcas\n",
      "(3180, 28)\n",
      "Remove perfectly correlated mcas\n",
      "(3180, 28)\n",
      "Create dataframe of whether or not the other dataframe is nan\n",
      "(3180, 28)\n",
      "Remove unchanging nan mcas\n",
      "(3180, 27)\n",
      "Remove perfectly correlated nan mcas\n",
      "(3180, 12)\n",
      "Combine mcas with nan mcas\n",
      "(3180, 40)\n",
      "Save mcas data\n"
     ]
    }
   ],
   "source": [
    "print('Prior Performance')\n",
    "\n",
    "mcas = df[[c for c in df.columns \n",
    "           if ('MCAS' in c \n",
    "           and 'MATHEMATICS' in c \n",
    "           and ('GRADE 06' in c \n",
    "                or 'GRADE 07' in c \n",
    "                or 'GRADE 08' in c))\n",
    "           or c == 'school_id']]\n",
    "mcas = mcas.reindex(sorted(mcas.columns), axis=1)\n",
    "print(mcas.shape)\n",
    "\n",
    "print('Fix web scraping typo')\n",
    "for i, row in mcas.iterrows():\n",
    "    for c in mcas.columns:\n",
    "        if 'MATHEMATICS3' in c:\n",
    "            other_c = c.replace('MATHEMATICS3', 'MATHEMATICS')\n",
    "            if not np.isnan(row[c]) and np.isnan(row[other_c]):\n",
    "                mcas.loc[i, other_c] = row[c]\n",
    "                mcas.loc[i, c] = np.nan\n",
    "mcas = mcas.drop(columns=[c for c in mcas.columns if 'MATHEMATICS3' in c])\n",
    "print(mcas.shape)\n",
    "\n",
    "print('Stack by year')\n",
    "new_dfs = []\n",
    "for _, row in mcas.iterrows():\n",
    "    year_serieses = []\n",
    "    years = ['2011', '2012', '2013', '2014', '2015']\n",
    "    for year in years:\n",
    "        new_index = ['__'.join(c.split('__')[1:]) for c in row.index if 'MCAS' in c and year in c]\n",
    "        year_series = row.loc[[c for c in row.index if 'MCAS' in c and year in c]]\n",
    "        year_series.index = new_index\n",
    "        year_series['year'] = year\n",
    "        year_serieses.append(year_series)\n",
    "        new_df = pd.concat(year_serieses, axis=1).T\n",
    "        new_df = new_df.reset_index().rename(columns={'index': 'school_id'})\n",
    "    new_dfs.append(new_df)\n",
    "mcas = pd.concat(new_dfs, axis=0).set_index('school_id')\n",
    "mcas = mcas.astype(float)\n",
    "print(mcas.shape)\n",
    "\n",
    "print('Remove unchanging mcas')\n",
    "mcas = mcas[mcas.columns[mcas.nunique(dropna=False) > 1]]\n",
    "print(mcas.shape)\n",
    "\n",
    "print('Remove perfectly correlated mcas')\n",
    "columns_to_remove = []\n",
    "corr_matrix = mcas.corr()\n",
    "for a in mcas.columns:\n",
    "    for b in mcas.columns:\n",
    "        if a not in columns_to_remove and b not in columns_to_remove and a != b and corr_matrix.loc[a, b] == 1:\n",
    "            columns_to_remove.append(b)\n",
    "mcas = mcas.drop(columns=columns_to_remove)\n",
    "print(mcas.shape)\n",
    "\n",
    "print('Create dataframe of whether or not the other dataframe is nan')\n",
    "nan_mcas = mcas.isna().astype(int)\n",
    "nan_mcas.columns = [f'{c}_is_nan' for c in nan_mcas.columns]\n",
    "print(nan_mcas.shape)\n",
    "\n",
    "print('Remove unchanging nan mcas')\n",
    "nan_mcas = nan_mcas[nan_mcas.columns[nan_mcas.nunique(dropna=False) > 1]]\n",
    "print(nan_mcas.shape)\n",
    "\n",
    "print('Remove perfectly correlated nan mcas')\n",
    "columns_to_remove = []\n",
    "corr_matrix = nan_mcas.corr()\n",
    "for a in nan_mcas.columns:\n",
    "    for b in nan_mcas.columns:\n",
    "        if a not in columns_to_remove and b not in columns_to_remove and a != b and corr_matrix.loc[a, b] == 1:\n",
    "            columns_to_remove.append(b)\n",
    "nan_mcas = nan_mcas.drop(columns=columns_to_remove)\n",
    "print(nan_mcas.shape)\n",
    "\n",
    "print('Combine mcas with nan mcas')\n",
    "mcas = pd.concat([mcas, nan_mcas], axis=1)\n",
    "print(mcas.shape)\n",
    "\n",
    "print('Save mcas data')\n",
    "demographics.to_csv('temporal_prior_performance_covariates.csv')"
   ]
  },
  {
   "cell_type": "code",
   "execution_count": 5,
   "metadata": {
    "scrolled": true
   },
   "outputs": [
    {
     "name": "stdout",
     "output_type": "stream",
     "text": [
      "Convert to series of numpy arrays\n",
      "(636,)\n",
      "Combine with demographics dataframe\n",
      "(636, 374)\n",
      "Save full dataframe as pickle\n"
     ]
    }
   ],
   "source": [
    "print('Convert to series of numpy arrays')\n",
    "mcas = mcas.groupby('school_id')\n",
    "mcas = mcas.apply(lambda x: x.sort_values('year').drop(columns='year').values)\n",
    "print(mcas.shape)\n",
    "\n",
    "print('Combine with demographics dataframe')\n",
    "demographics['prior_performance'] = mcas\n",
    "print(demographics.shape)\n",
    "\n",
    "print('Save full dataframe as pickle')\n",
    "demographics.to_pickle('clean_data.pkl')"
   ]
  },
  {
   "cell_type": "code",
   "execution_count": null,
   "metadata": {},
   "outputs": [],
   "source": []
  }
 ],
 "metadata": {
  "kernelspec": {
   "display_name": "Python 3",
   "language": "python",
   "name": "python3"
  },
  "language_info": {
   "codemirror_mode": {
    "name": "ipython",
    "version": 3
   },
   "file_extension": ".py",
   "mimetype": "text/x-python",
   "name": "python",
   "nbconvert_exporter": "python",
   "pygments_lexer": "ipython3",
   "version": "3.8.10"
  }
 },
 "nbformat": 4,
 "nbformat_minor": 4
}
