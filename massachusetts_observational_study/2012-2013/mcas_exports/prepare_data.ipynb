{
 "cells": [
  {
   "cell_type": "code",
   "execution_count": 1,
   "metadata": {},
   "outputs": [],
   "source": [
    "import os\n",
    "import numpy as np\n",
    "import pandas as pd"
   ]
  },
  {
   "cell_type": "code",
   "execution_count": 2,
   "metadata": {
    "scrolled": false
   },
   "outputs": [
    {
     "name": "stdout",
     "output_type": "stream",
     "text": [
      "Get average performance for each middle school\n",
      "(632, 1)\n"
     ]
    }
   ],
   "source": [
    "# Get 2013 middle school MCAS performance\n",
    "# Performance is the average advanced or proficient % per grade weighted by the number of students in the grade\n",
    "\n",
    "dfs = []\n",
    "for file in os.listdir('xlsx'):\n",
    "    if 'mcas_2013' in file:\n",
    "        df = pd.read_excel(f'xlsx/{file}', header=1, dtype=str).astype(str)\n",
    "        df = df[df['Subject'] == 'MATHEMATICS']\n",
    "        df = df.rename(columns={'School Code':'school_code'})\n",
    "        df = df.set_index('school_code')\n",
    "        df = df[['P+A %', 'No. of Students Included']]\n",
    "        df = df.astype(float)\n",
    "        dfs.append(df)\n",
    "df = pd.concat(dfs, axis=0)\n",
    "df = df.rename(columns={'P+A %': 'x', 'No. of Students Included': 'w'})\n",
    "df['xw'] = df['x'] * df['w']\n",
    "group = df.groupby('school_code')\n",
    "performance = group['xw'].sum() / group['w'].sum()\n",
    "performance = performance.rename('performance')\n",
    "performance = performance.reset_index()\n",
    "performance = performance.set_index('school_code')\n",
    "performance = performance[performance.index != '00000000']\n",
    "\n",
    "print('Get average performance for each middle school')\n",
    "print(performance.shape)"
   ]
  },
  {
   "cell_type": "code",
   "execution_count": 3,
   "metadata": {},
   "outputs": [
    {
     "name": "stdout",
     "output_type": "stream",
     "text": [
      "Remove demographics from non middle schools\n",
      "(632, 68)\n",
      "Remove unchanging demographics\n",
      "(632, 68)\n",
      "Remove perfectly correlated demographics\n",
      "(632, 68)\n",
      "Create dataframe of whether or not the other dataframe is nan\n",
      "(632, 68)\n",
      "Remove unchanging nan demographics\n",
      "(632, 6)\n",
      "Remove perfectly correlated nan demographics\n",
      "(632, 1)\n",
      "Combine demographics with nan demographics\n",
      "(632, 69)\n"
     ]
    }
   ],
   "source": [
    "# Combine all the demographics for the 2013 school year\n",
    "\n",
    "demographics = pd.DataFrame(index=performance.index)\n",
    "for file in os.listdir('xlsx'):\n",
    "    if '2013' in file and 'mcas' not in file:\n",
    "        df = pd.read_excel(f'xlsx/{file}', header=1, dtype=str).astype(str)\n",
    "        df = df.iloc[:, 1:]\n",
    "        df = df.rename(columns={df.columns[0]:'school_code'})\n",
    "        df = df.set_index('school_code')\n",
    "        df = df.applymap(lambda x: x.replace(' ', '').replace(',', '').replace('to1', '').replace('######', 'NaN'))\n",
    "        df = df.astype(float)\n",
    "        df = df[[c for c in df.columns if c not in demographics.columns]]\n",
    "        demographics = demographics.merge(df, how='outer', left_index=True, right_index=True)\n",
    "\n",
    "print('Remove demographics from non middle schools')\n",
    "demographics = demographics[demographics.index.isin(performance.index)]\n",
    "print(demographics.shape)\n",
    "\n",
    "print('Remove unchanging demographics')\n",
    "demographics = demographics[demographics.columns[demographics.nunique(dropna=False) > 1]]\n",
    "print(demographics.shape)\n",
    "\n",
    "print('Remove perfectly correlated demographics')\n",
    "columns_to_remove = []\n",
    "corr_matrix = demographics.corr()\n",
    "for a in demographics.columns:\n",
    "    for b in demographics.columns:\n",
    "        if a not in columns_to_remove and b not in columns_to_remove and a != b and corr_matrix.loc[a, b] == 1:\n",
    "            columns_to_remove.append(b)\n",
    "demographics = demographics.drop(columns=columns_to_remove)\n",
    "print(demographics.shape)\n",
    "\n",
    "print('Create dataframe of whether or not the other dataframe is nan')\n",
    "nan_demographics = demographics.isna().astype(int)\n",
    "nan_demographics.columns = [f'{c}_is_nan' for c in nan_demographics.columns]\n",
    "print(nan_demographics.shape)\n",
    "\n",
    "print('Remove unchanging nan demographics')\n",
    "nan_demographics = nan_demographics[nan_demographics.columns[nan_demographics.nunique(dropna=False) > 1]]\n",
    "print(nan_demographics.shape)\n",
    "\n",
    "print('Remove perfectly correlated nan demographics')\n",
    "columns_to_remove = []\n",
    "corr_matrix = nan_demographics.corr()\n",
    "for a in nan_demographics.columns:\n",
    "    for b in nan_demographics.columns:\n",
    "        if a not in columns_to_remove and b not in columns_to_remove and a != b and corr_matrix.loc[a, b] == 1:\n",
    "            columns_to_remove.append(b)\n",
    "nan_demographics = nan_demographics.drop(columns=columns_to_remove)\n",
    "print(nan_demographics.shape)\n",
    "\n",
    "print('Combine demographics with nan demographics')\n",
    "demographics = pd.concat([demographics, nan_demographics], axis=1)\n",
    "print(demographics.shape)"
   ]
  },
  {
   "cell_type": "code",
   "execution_count": 33,
   "metadata": {},
   "outputs": [
    {
     "name": "stdout",
     "output_type": "stream",
     "text": [
      "Remove priors from non middle schools\n",
      "(3160, 43)\n",
      "Remove unchanging priors\n",
      "(3160, 43)\n",
      "Remove perfectly correlated priors\n",
      "(3160, 43)\n",
      "Create dataframe of whether or not the other dataframe is nan\n",
      "(3160, 43)\n",
      "Remove unchanging nan priors\n",
      "(3160, 42)\n",
      "Remove perfectly correlated nan priors\n",
      "(3160, 9)\n",
      "Combine priors with nan priors\n",
      "(3160, 52)\n",
      "Reshape priors into series of years\n",
      "(632,)\n"
     ]
    }
   ],
   "source": [
    "# Get prior middle school MCAS results\n",
    "\n",
    "priors = []\n",
    "for year in [2007, 2008, 2009, 2010, 2011]:\n",
    "    year_df = pd.DataFrame(index=performance.index)\n",
    "    year_df['year'] = year\n",
    "    for grade in [6, 7, 8]:\n",
    "        grade_df = pd.read_excel(f'xlsx/mcas_{year}-{grade}.xlsx', header=1, dtype=str).astype(str)\n",
    "        grade_df = grade_df[grade_df['Subject'] == 'MATHEMATICS']\n",
    "        grade_df = grade_df.drop(columns=['School Name', 'Subject'])\n",
    "        grade_df = grade_df.rename(columns={'School Code':'school_code'})\n",
    "        grade_df = grade_df.set_index('school_code')\n",
    "        grade_df = grade_df.applymap(lambda x: x.replace('nan', ''))\n",
    "        grade_df = grade_df.apply(lambda x: pd.to_numeric(x.str.strip()))\n",
    "        grade_df = grade_df.astype(float)\n",
    "        grade_df.columns = [f'Grade {grade} {c}' for c in grade_df.columns]\n",
    "        year_df = year_df.merge(grade_df, how='outer', left_index=True, right_index=True)\n",
    "    priors.append(year_df)\n",
    "\n",
    "priors = pd.concat(priors, axis=0)\n",
    "\n",
    "print('Remove priors from non middle schools')\n",
    "priors = priors[priors.index.isin(performance.index)]\n",
    "print(priors.shape)\n",
    "\n",
    "print('Remove unchanging priors')\n",
    "priors = priors[priors.columns[priors.nunique(dropna=False) > 1]]\n",
    "print(priors.shape)\n",
    "\n",
    "print('Remove perfectly correlated priors')\n",
    "columns_to_remove = []\n",
    "corr_matrix = priors.corr()\n",
    "for a in priors.columns:\n",
    "    for b in priors.columns:\n",
    "        if a not in columns_to_remove and b not in columns_to_remove and a != b and corr_matrix.loc[a, b] == 1:\n",
    "            columns_to_remove.append(b)\n",
    "priors = priors.drop(columns=columns_to_remove)\n",
    "print(priors.shape)\n",
    "\n",
    "print('Create dataframe of whether or not the other dataframe is nan')\n",
    "nan_priors = priors.isna().astype(int)\n",
    "nan_priors.columns = [f'{c}_is_nan' for c in nan_priors.columns]\n",
    "print(nan_priors.shape)\n",
    "\n",
    "print('Remove unchanging nan priors')\n",
    "nan_priors = nan_priors[nan_priors.columns[nan_priors.nunique(dropna=False) > 1]]\n",
    "print(nan_priors.shape)\n",
    "\n",
    "print('Remove perfectly correlated nan priors')\n",
    "columns_to_remove = []\n",
    "corr_matrix = nan_priors.corr()\n",
    "for a in nan_priors.columns:\n",
    "    for b in nan_priors.columns:\n",
    "        if a not in columns_to_remove and b not in columns_to_remove and a != b and corr_matrix.loc[a, b] == 1:\n",
    "            columns_to_remove.append(b)\n",
    "nan_priors = nan_priors.drop(columns=columns_to_remove)\n",
    "print(nan_priors.shape)\n",
    "\n",
    "print('Combine priors with nan priors')\n",
    "priors = pd.concat([priors, nan_priors], axis=1)\n",
    "print(priors.shape)\n",
    "\n",
    "print('Reshape priors into series of years')\n",
    "priors = priors.set_index('year', append=True)\n",
    "priors = priors.groupby('school_code').apply(lambda x: x.sort_values('year').values.tolist())\n",
    "priors = priors.rename('prior_performance')\n",
    "print(priors.shape)"
   ]
  },
  {
   "cell_type": "code",
   "execution_count": 34,
   "metadata": {},
   "outputs": [],
   "source": [
    "df = performance.merge(demographics, how='inner', left_index=True, right_index=True)\n",
    "df = df.merge(priors, how='inner', left_index=True, right_index=True)\n",
    "df.to_csv('csv/mass_doe_data.csv')"
   ]
  },
  {
   "cell_type": "code",
   "execution_count": null,
   "metadata": {},
   "outputs": [],
   "source": []
  }
 ],
 "metadata": {
  "kernelspec": {
   "display_name": "Python 3",
   "language": "python",
   "name": "python3"
  },
  "language_info": {
   "codemirror_mode": {
    "name": "ipython",
    "version": 3
   },
   "file_extension": ".py",
   "mimetype": "text/x-python",
   "name": "python",
   "nbconvert_exporter": "python",
   "pygments_lexer": "ipython3",
   "version": "3.8.10"
  }
 },
 "nbformat": 4,
 "nbformat_minor": 4
}
