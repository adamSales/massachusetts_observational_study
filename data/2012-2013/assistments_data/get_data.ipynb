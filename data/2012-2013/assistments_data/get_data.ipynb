{
 "cells": [
  {
   "cell_type": "code",
   "execution_count": 1,
   "metadata": {},
   "outputs": [],
   "source": [
    "import os\n",
    "import pandas as pd\n",
    "import pandas.io.sql as sqlio\n",
    "from sqlalchemy import create_engine, text\n",
    "from assistments.sdk.aws.manager import rds"
   ]
  },
  {
   "cell_type": "code",
   "execution_count": 3,
   "metadata": {},
   "outputs": [
    {
     "name": "stdout",
     "output_type": "stream",
     "text": [
      "2007\n",
      "2008\n",
      "2009\n",
      "2010\n",
      "2011\n",
      "2012\n",
      "2013\n",
      "2014\n",
      "2015\n",
      "2016\n",
      "2017\n",
      "2018\n"
     ]
    }
   ],
   "source": [
    "# Create sql instance\n",
    "manager = rds.Manager()\n",
    "credentials = manager.get_db_credentials('rds-dev', 'tng')\n",
    "url = f'postgresql://{credentials.username}:{credentials.password}@{credentials.host}:{credentials.port}/cas_core'\n",
    "dev_engine = create_engine(url)\n",
    "dev_conn = dev_engine.connect().execution_options(autocommit=True)\n",
    "\n",
    "# Get school year data\n",
    "school_year_data = []\n",
    "for year in [2007, 2008, 2009, 2010, 2011, 2012, 2013, 2014, 2015, 2016, 2017, 2018]:\n",
    "    print(year)\n",
    "    with open('sql/school_year_data_query.sql', 'rt') as fin:\n",
    "        with open('sql/tmp.sql', 'wt') as fout:\n",
    "            for line in fin:\n",
    "                fout.write(line.replace('START_YEAR', str(year)).replace('END_YEAR', str(year + 1)))\n",
    "    data = sqlio.read_sql_query(text(open('sql/tmp.sql', 'r').read()), dev_conn)\n",
    "    os.remove('sql/tmp.sql')\n",
    "    data['school_start_year'] = year\n",
    "    data['school_end_year'] = year + 1\n",
    "    school_year_data.append(data)\n",
    "school_year_data = pd.concat(school_year_data, axis=0)\n",
    "school_year_data.to_csv('csv/school_year_data.csv', index=False)"
   ]
  }
 ],
 "metadata": {
  "kernelspec": {
   "display_name": "Python 3",
   "language": "python",
   "name": "python3"
  },
  "language_info": {
   "codemirror_mode": {
    "name": "ipython",
    "version": 3
   },
   "file_extension": ".py",
   "mimetype": "text/x-python",
   "name": "python",
   "nbconvert_exporter": "python",
   "pygments_lexer": "ipython3",
   "version": "3.8.10"
  }
 },
 "nbformat": 4,
 "nbformat_minor": 4
}
