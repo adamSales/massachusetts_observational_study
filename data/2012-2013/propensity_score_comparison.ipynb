{
 "cells": [
  {
   "cell_type": "code",
   "execution_count": 1,
   "metadata": {},
   "outputs": [
    {
     "name": "stderr",
     "output_type": "stream",
     "text": [
      "/usr/lib/python3/dist-packages/requests/__init__.py:89: RequestsDependencyWarning: urllib3 (1.26.10) or chardet (3.0.4) doesn't match a supported version!\n",
      "  warnings.warn(\"urllib3 ({}) or chardet ({}) doesn't match a supported \"\n"
     ]
    }
   ],
   "source": [
    "import os\n",
    "import numpy as np\n",
    "import pandas as pd\n",
    "\n",
    "import seaborn as sns\n",
    "import matplotlib.pyplot as plt\n",
    "\n",
    "from scipy.stats import ttest_ind\n",
    "from hotelling.stats import hotelling_t2\n",
    "from sklearn.neighbors import NearestNeighbors\n",
    "from sklearn.preprocessing import StandardScaler\n",
    "from sklearn.model_selection import StratifiedKFold\n",
    "from sklearn.metrics import roc_auc_score, r2_score\n",
    "\n",
    "import keras\n",
    "import tensorflow as tf\n",
    "from tensorflow.keras.models import Model\n",
    "from tensorflow.keras.callbacks import EarlyStopping\n",
    "from tensorflow.keras.layers import Input, Masking, LSTM, Dense, Dropout, Concatenate\n",
    "\n",
    "# Hide GPU from visible devices\n",
    "tf.config.set_visible_devices([], 'GPU')"
   ]
  },
  {
   "cell_type": "code",
   "execution_count": 2,
   "metadata": {},
   "outputs": [],
   "source": [
    "# Load data\n",
    "\n",
    "assistments_usage = pd.read_csv('assistments_usage.csv', dtype=str).astype(str)\n",
    "assistments_usage = assistments_usage.set_index('school_code')\n",
    "assistments_usage = assistments_usage.astype(int)\n",
    "assistments_usage = assistments_usage[assistments_usage['in_treatment'] == assistments_usage['used_assistments']]\n",
    "assistments_usage = assistments_usage.sort_values('school_code')\n",
    "\n",
    "mass_doe_data = pd.read_csv('mcas_exports/csv/mass_doe_data.csv', dtype=str).astype(str)\n",
    "mass_doe_data = mass_doe_data.set_index('school_code')\n",
    "float_columns = [c for c in mass_doe_data if c != 'prior_performance']\n",
    "mass_doe_data[float_columns] = mass_doe_data[float_columns].astype(float)\n",
    "mass_doe_data['prior_performance'] = mass_doe_data['prior_performance'].apply(lambda x: np.array(eval(x.replace('nan', 'np.nan'))))\n",
    "mass_doe_data = mass_doe_data[mass_doe_data.index.isin(assistments_usage.index)]\n",
    "mass_doe_data = mass_doe_data.sort_values('school_code')\n",
    "\n",
    "flat_mass_doe_data = pd.read_csv('mcas_exports/csv/flat_mass_doe_data.csv', dtype=str).astype(str)\n",
    "flat_mass_doe_data = flat_mass_doe_data.set_index('school_code')\n",
    "flat_mass_doe_data = flat_mass_doe_data.astype(float)\n",
    "flat_mass_doe_data = flat_mass_doe_data[flat_mass_doe_data.index.isin(assistments_usage.index)]\n",
    "flat_mass_doe_data = flat_mass_doe_data.sort_values('school_code')\n",
    "\n",
    "treatment = assistments_usage['in_treatment'].values.reshape(-1, 1)\n",
    "demographics = mass_doe_data.drop(columns='prior_performance').values\n",
    "prior_performance = np.array(mass_doe_data['prior_performance'].tolist())\n",
    "school_code_index = mass_doe_data.index.values"
   ]
  },
  {
   "cell_type": "code",
   "execution_count": 3,
   "metadata": {},
   "outputs": [],
   "source": [
    "score_dfs = []"
   ]
  },
  {
   "cell_type": "code",
   "execution_count": 4,
   "metadata": {
    "scrolled": false
   },
   "outputs": [
    {
     "name": "stdout",
     "output_type": "stream",
     "text": [
      "Model AUC: mean = 0.744; std = 0.06247\n",
      "Model R²: mean = -2.05; std = 0.3905\n"
     ]
    },
    {
     "data": {
      "image/png": "[encoded data removed]",
      "text/plain": [
       "<Figure size 432x288 with 1 Axes>"
      ]
     },
     "metadata": {
      "needs_background": "light"
     },
     "output_type": "display_data"
    },
    {
     "data": {
      "image/png": "[encoded data removed]",
      "text/plain": [
       "<Figure size 432x288 with 1 Axes>"
      ]
     },
     "metadata": {
      "needs_background": "light"
     },
     "output_type": "display_data"
    }
   ],
   "source": [
    "# Get model stats and propensity scores for every school using a neural network\n",
    "\n",
    "TRIALS = 10\n",
    "\n",
    "ff_X = demographics\n",
    "lstm_X = prior_performance\n",
    "y = treatment\n",
    "w = treatment * (len(treatment) / treatment.sum() - 1) + 1\n",
    "s = school_code_index\n",
    "\n",
    "school_codes = []\n",
    "propensity_scores = []\n",
    "treatments = []\n",
    "aucs = []\n",
    "r2s = []\n",
    "for i in range(TRIALS):\n",
    "    for train_index, test_index in StratifiedKFold(n_splits=5, shuffle=True).split(ff_X, y):\n",
    "\n",
    "        # Clear session so models don't pile up\n",
    "        keras.backend.clear_session()\n",
    "\n",
    "        # Split data into training and testing splits\n",
    "        train_ff_X, test_ff_X = ff_X[train_index], ff_X[test_index]\n",
    "        train_lstm_X, test_lstm_X = lstm_X[train_index], lstm_X[test_index]\n",
    "        train_y, test_y = y[train_index], y[test_index]\n",
    "        train_w, test_w = w[train_index], w[test_index]\n",
    "        train_s, test_s = s[train_index], s[test_index]\n",
    "\n",
    "        # Normalize the input data based on the training data distribution\n",
    "        ff_scaler = StandardScaler().fit(train_ff_X)\n",
    "        train_ff_X = np.nan_to_num(ff_scaler.transform(train_ff_X))\n",
    "        test_ff_X = np.nan_to_num(ff_scaler.transform(test_ff_X))\n",
    "\n",
    "        train_lstm_X_shape = train_lstm_X.shape\n",
    "        train_stacked_lstm_X = train_lstm_X.reshape(-1, train_lstm_X_shape[-1])\n",
    "        lstm_scaler = StandardScaler().fit(train_stacked_lstm_X)\n",
    "        train_lstm_X = np.nan_to_num(lstm_scaler.transform(train_stacked_lstm_X)).reshape(train_lstm_X_shape)\n",
    "        test_lstm_X_shape = test_lstm_X.shape\n",
    "        test_stacked_lstm_X = test_lstm_X.reshape(-1, test_lstm_X_shape[-1])\n",
    "        test_lstm_X = np.nan_to_num(lstm_scaler.transform(test_stacked_lstm_X)).reshape(test_lstm_X_shape)\n",
    "\n",
    "        # Create the neural network\n",
    "        ff_input_layer = Input(shape=train_ff_X[0].shape)\n",
    "        ff_model = Dense(units=64, activation='sigmoid')(ff_input_layer)\n",
    "        ff_model = Dropout(rate=0.5)(ff_model)\n",
    "\n",
    "        lstm_input_layer = Input(shape=train_lstm_X[0].shape)\n",
    "        lstm_model = Masking(mask_value=0.0)(lstm_input_layer)\n",
    "        lstm_model = LSTM(units=64, return_sequences=False, activation='tanh', dropout=0.5, recurrent_dropout=0.5)(lstm_model)\n",
    "\n",
    "        model = Concatenate()([ff_model, lstm_model])\n",
    "        output_layer = Dense(units=1, activation='sigmoid')(model)\n",
    "\n",
    "        combined_model = Model([ff_input_layer, lstm_input_layer], output_layer)\n",
    "        combined_model.compile(optimizer='adam', loss='binary_crossentropy')\n",
    "\n",
    "        # Train the neural network\n",
    "        es = [EarlyStopping(monitor='val_loss', patience=10, min_delta=0, restore_best_weights=True)]\n",
    "        combined_model.fit(x=[train_ff_X, train_lstm_X],\n",
    "                           y=train_y,\n",
    "                           epochs=1000,\n",
    "                           validation_split=0.25,\n",
    "                           callbacks=es,\n",
    "                           sample_weight=train_w,\n",
    "                           verbose=0)\n",
    "\n",
    "        # Use the neural network to predict the held-out fold\n",
    "        pred_y = combined_model.predict([test_ff_X, test_lstm_X]).flatten()\n",
    "\n",
    "        # Update propensity scores and metrics\n",
    "        school_codes.extend(test_s.tolist())\n",
    "        propensity_scores.extend(pred_y.tolist())\n",
    "        treatments.extend(test_y.flatten().tolist())\n",
    "        aucs.append(roc_auc_score(test_y.flatten(), pred_y))\n",
    "        r2s.append(r2_score(test_y.flatten(), pred_y))\n",
    "\n",
    "scores = pd.DataFrame([school_codes, propensity_scores, treatments], \n",
    "                      index=['school_code', 'propensity_score', 'in_treatment']).T\n",
    "scores['propensity_score'] = scores['propensity_score'].astype(float)\n",
    "scores['in_treatment'] = scores['in_treatment'].astype(int)\n",
    "scores = scores.groupby('school_code').mean().reset_index()\n",
    "scores['model'] = 'Average Out-of-Bag Neural Net'\n",
    "score_dfs.append(scores)\n",
    "\n",
    "# Display Findings\n",
    "\n",
    "print(f'Model AUC: mean = {np.mean(aucs):.4g}; std = {np.std(aucs):.4g}')\n",
    "print(f'Model R\\u00b2: mean = {np.mean(r2s):.4g}; std = {np.std(r2s):.4g}')\n",
    "\n",
    "plt.figure()\n",
    "plt.hist(np.array(propensity_scores)[np.array(treatments) == 1], bins=np.arange(0, 1.01, 0.05), density=True)\n",
    "plt.xlim([0,1])\n",
    "plt.xlabel('Propensity Score')\n",
    "plt.ylabel('Density')\n",
    "plt.title('Distribution of Propensity Scores for Treatment')\n",
    "plt.show()\n",
    "\n",
    "plt.figure()\n",
    "plt.hist(np.array(propensity_scores)[np.array(treatments) == 0], bins=np.arange(0, 1.01, 0.05), density=True)\n",
    "plt.xlim([0,1])\n",
    "plt.xlabel('Propensity Score')\n",
    "plt.ylabel('Density')\n",
    "plt.title('Distribution of Propensity Scores for Control')\n",
    "plt.show()"
   ]
  },
  {
   "cell_type": "code",
   "execution_count": 5,
   "metadata": {},
   "outputs": [
    {
     "name": "stdout",
     "output_type": "stream",
     "text": [
      "Model AUC: mean = 0.8368; std = 0\n",
      "Model R²: mean = -1.701; std = 0\n"
     ]
    },
    {
     "data": {
      "image/png": "[encoded data removed]",
      "text/plain": [
       "<Figure size 432x288 with 1 Axes>"
      ]
     },
     "metadata": {
      "needs_background": "light"
     },
     "output_type": "display_data"
    },
    {
     "data": {
      "image/png": "[encoded data removed]",
      "text/plain": [
       "<Figure size 432x288 with 1 Axes>"
      ]
     },
     "metadata": {
      "needs_background": "light"
     },
     "output_type": "display_data"
    }
   ],
   "source": [
    "# Get model stats and propensity scores for every school using a neural network\n",
    "\n",
    "TRIALS = 1\n",
    "\n",
    "ff_X = demographics\n",
    "lstm_X = prior_performance\n",
    "y = treatment\n",
    "w = treatment * (len(treatment) / treatment.sum() - 1) + 1\n",
    "s = school_code_index\n",
    "\n",
    "school_codes = []\n",
    "propensity_scores = []\n",
    "treatments = []\n",
    "aucs = []\n",
    "r2s = []\n",
    "for i in range(TRIALS):\n",
    "\n",
    "    # Clear session so models don't pile up\n",
    "    keras.backend.clear_session()\n",
    "\n",
    "    # Normalize the input data based on the training data distribution\n",
    "    ff_scaler = StandardScaler().fit(ff_X)\n",
    "    ff_X = np.nan_to_num(ff_scaler.transform(ff_X))\n",
    "\n",
    "    lstm_X_shape = lstm_X.shape\n",
    "    stacked_lstm_X = lstm_X.reshape(-1, lstm_X_shape[-1])\n",
    "    lstm_scaler = StandardScaler().fit(stacked_lstm_X)\n",
    "    lstm_X = np.nan_to_num(lstm_scaler.transform(stacked_lstm_X)).reshape(lstm_X_shape)\n",
    "\n",
    "    # Create the neural network\n",
    "    ff_input_layer = Input(shape=ff_X[0].shape)\n",
    "    ff_model = Dense(units=64, activation='sigmoid')(ff_input_layer)\n",
    "    ff_model = Dropout(rate=0.5)(ff_model)\n",
    "\n",
    "    lstm_input_layer = Input(shape=lstm_X[0].shape)\n",
    "    lstm_model = Masking(mask_value=0.0)(lstm_input_layer)\n",
    "    lstm_model = LSTM(units=64, return_sequences=False, activation='tanh', dropout=0.5, recurrent_dropout=0.5)(lstm_model)\n",
    "\n",
    "    model = Concatenate()([ff_model, lstm_model])\n",
    "    output_layer = Dense(units=1, activation='sigmoid')(model)\n",
    "\n",
    "    combined_model = Model([ff_input_layer, lstm_input_layer], output_layer)\n",
    "    combined_model.compile(optimizer='adam', loss='binary_crossentropy')\n",
    "\n",
    "    # Train the neural network\n",
    "    es = [EarlyStopping(monitor='val_loss', patience=10, min_delta=0, restore_best_weights=True)]\n",
    "    combined_model.fit(x=[ff_X, lstm_X],\n",
    "                       y=y,\n",
    "                       epochs=1000,\n",
    "                       validation_split=0.25,\n",
    "                       callbacks=es,\n",
    "                       sample_weight=w,\n",
    "                       verbose=0)\n",
    "\n",
    "    # Use the neural network to predict the held-out fold\n",
    "    pred_y = combined_model.predict([ff_X, lstm_X]).flatten()\n",
    "\n",
    "    # Update propensity scores and metrics\n",
    "    school_codes.extend(s.tolist())\n",
    "    propensity_scores.extend(pred_y.tolist())\n",
    "    treatments.extend(y.flatten().tolist())\n",
    "    aucs.append(roc_auc_score(y.flatten(), pred_y))\n",
    "    r2s.append(r2_score(y.flatten(), pred_y))\n",
    "\n",
    "scores = pd.DataFrame([school_codes, propensity_scores, treatments], \n",
    "                      index=['school_code', 'propensity_score', 'in_treatment']).T\n",
    "scores['propensity_score'] = scores['propensity_score'].astype(float)\n",
    "scores['in_treatment'] = scores['in_treatment'].astype(int)\n",
    "scores = scores.groupby('school_code').mean().reset_index()\n",
    "scores['model'] = 'One Shot Neural Net'\n",
    "score_dfs.append(scores)\n",
    "\n",
    "# Display Findings\n",
    "\n",
    "print(f'Model AUC: mean = {np.mean(aucs):.4g}; std = {np.std(aucs):.4g}')\n",
    "print(f'Model R\\u00b2: mean = {np.mean(r2s):.4g}; std = {np.std(r2s):.4g}')\n",
    "\n",
    "plt.figure()\n",
    "plt.hist(np.array(propensity_scores)[np.array(treatments) == 1], bins=np.arange(0, 1.01, 0.05), density=True)\n",
    "plt.xlim([0,1])\n",
    "plt.xlabel('Propensity Score')\n",
    "plt.ylabel('Density')\n",
    "plt.title('Distribution of Propensity Scores for Treatment')\n",
    "plt.show()\n",
    "\n",
    "plt.figure()\n",
    "plt.hist(np.array(propensity_scores)[np.array(treatments) == 0], bins=np.arange(0, 1.01, 0.05), density=True)\n",
    "plt.xlim([0,1])\n",
    "plt.xlabel('Propensity Score')\n",
    "plt.ylabel('Density')\n",
    "plt.title('Distribution of Propensity Scores for Control')\n",
    "plt.show()"
   ]
  },
  {
   "cell_type": "code",
   "execution_count": 6,
   "metadata": {
    "scrolled": false
   },
   "outputs": [],
   "source": [
    "# Determine control schools\n",
    "\n",
    "scores = pd.concat(score_dfs, axis=0, sort=False)\n",
    "\n",
    "def mark_control(df, n):\n",
    "    nn = NearestNeighbors(n_neighbors=n + 1)\n",
    "    nn.fit(df[['propensity_score']].values)\n",
    "    treatment_scores = df[df['in_treatment'] == 1][['propensity_score']].values\n",
    "    control_indicies = nn.kneighbors(treatment_scores, return_distance=False).flatten()\n",
    "    df['in_control'] = ((df['in_treatment'] == 0) & df.index.isin(control_indicies)).astype(int)\n",
    "    return df\n",
    "\n",
    "scores = scores.groupby('model').apply(lambda x: mark_control(x, 3))\n",
    "scores = scores.set_index('school_code')"
   ]
  },
  {
   "cell_type": "code",
   "execution_count": 30,
   "metadata": {},
   "outputs": [
    {
     "data": {
      "text/plain": [
       "model\n",
       "Average Out-of-Bag Neural Net    0.443472\n",
       "One Shot Neural Net              0.444457\n",
       "dtype: float64"
      ]
     },
     "metadata": {},
     "output_type": "display_data"
    }
   ],
   "source": [
    "SAMPLES = 100\n",
    "\n",
    "normalized_covariates = ((flat_mass_doe_data - flat_mass_doe_data.mean()) / flat_mass_doe_data.std()).fillna(0)\n",
    "\n",
    "def get_condition_similarity(df):\n",
    "    control = normalized_covariates[normalized_covariates.index.isin(df[df['in_control'] == 1].index)].values\n",
    "    treatment = normalized_covariates[normalized_covariates.index.isin(df[df['in_treatment'] == 1].index)].values\n",
    "    #_, _, p, _ = hotelling_t2(control, treatment)\n",
    "    p = np.mean(ttest_ind(control, treatment, equal_var=False), axis=1)[1]\n",
    "    return p\n",
    "\n",
    "similarity = scores.groupby('model').apply(lambda x: get_condition_similarity(x))\n",
    "display(similarity)"
   ]
  },
  {
   "cell_type": "code",
   "execution_count": 31,
   "metadata": {},
   "outputs": [],
   "source": [
    "scores = scores[scores['model'] == 'One Shot Neural Net']\n",
    "scores = scores[['propensity_score', 'in_treatment', 'in_control']]\n",
    "scores.to_csv('propensity_scores_and_conditions.csv')"
   ]
  },
  {
   "cell_type": "code",
   "execution_count": null,
   "metadata": {},
   "outputs": [],
   "source": []
  }
 ],
 "metadata": {
  "kernelspec": {
   "display_name": "Python 3",
   "language": "python",
   "name": "python3"
  },
  "language_info": {
   "codemirror_mode": {
    "name": "ipython",
    "version": 3
   },
   "file_extension": ".py",
   "mimetype": "text/x-python",
   "name": "python",
   "nbconvert_exporter": "python",
   "pygments_lexer": "ipython3",
   "version": "3.8.10"
  }
 },
 "nbformat": 4,
 "nbformat_minor": 4
}
